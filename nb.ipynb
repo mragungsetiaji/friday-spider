{
 "metadata": {
  "language_info": {
   "codemirror_mode": {
    "name": "ipython",
    "version": 3
   },
   "file_extension": ".py",
   "mimetype": "text/x-python",
   "name": "python",
   "nbconvert_exporter": "python",
   "pygments_lexer": "ipython3",
   "version": "3.8.3-final"
  },
  "orig_nbformat": 2,
  "kernelspec": {
   "name": "python3",
   "display_name": "Python 3"
  }
 },
 "nbformat": 4,
 "nbformat_minor": 2,
 "cells": [
  {
   "cell_type": "code",
   "execution_count": 1,
   "metadata": {},
   "outputs": [],
   "source": [
    "import pandas as pd"
   ]
  },
  {
   "cell_type": "code",
   "execution_count": 38,
   "metadata": {},
   "outputs": [],
   "source": [
    "path = \"/Users/mragungsetiaji/Documents/friday/friday-spider/spider.csv\""
   ]
  },
  {
   "cell_type": "code",
   "execution_count": 39,
   "metadata": {},
   "outputs": [],
   "source": [
    "df = pd.read_csv(path)"
   ]
  },
  {
   "cell_type": "code",
   "execution_count": 40,
   "metadata": {},
   "outputs": [],
   "source": [
    "df = df[df[\"date\"] != \"2020-11-07\"]"
   ]
  },
  {
   "cell_type": "code",
   "execution_count": 41,
   "metadata": {},
   "outputs": [],
   "source": [
    "df[\"average\"] = df[\"average\"].apply(lambda x: int(x.replace(\",\", \"\")))"
   ]
  },
  {
   "cell_type": "code",
   "execution_count": 42,
   "metadata": {},
   "outputs": [],
   "source": [
    "df[\"lot\"] = df[\"lot\"].apply(lambda x: int(x.replace(\",\", \"\")))"
   ]
  },
  {
   "cell_type": "code",
   "execution_count": 43,
   "metadata": {},
   "outputs": [],
   "source": [
    "def clean(x):\n",
    "    if \"B\" in x:\n",
    "        x = x.replace(\" B\", \"\")\n",
    "        x = float(x) * 1000000000\n",
    "    elif \"M\" in x:\n",
    "        x = x.replace(\" M\", \"\")\n",
    "        x = float(x) * 1000000\n",
    "    return int(x)"
   ]
  },
  {
   "cell_type": "code",
   "execution_count": 44,
   "metadata": {},
   "outputs": [],
   "source": [
    "df[\"value\"] = df[\"value\"].apply(lambda x: clean(x))"
   ]
  },
  {
   "cell_type": "code",
   "execution_count": 45,
   "metadata": {},
   "outputs": [
    {
     "output_type": "execute_result",
     "data": {
      "text/plain": [
       "     average broker_code        date emiten                   id     lot type  \\\n",
       "40      5746          AK  2020-11-06   ASII  ASII-2020-11-06-B-0  102611    B   \n",
       "41      5745          AT  2020-11-06   ASII  ASII-2020-11-06-S-0   70652    S   \n",
       "42      5796          ZP  2020-11-06   ASII  ASII-2020-11-06-B-1   89506    B   \n",
       "43      5832          ZP  2020-11-06   ASII  ASII-2020-11-06-S-1   68881    S   \n",
       "44      5692          KZ  2020-11-06   ASII  ASII-2020-11-06-B-2   78634    B   \n",
       "..       ...         ...         ...    ...                  ...     ...  ...   \n",
       "415     5372          MS  2020-11-01   ASII  ASII-2020-11-01-S-7  105241    S   \n",
       "416     5466          CC  2020-11-01   ASII  ASII-2020-11-01-B-8   51672    B   \n",
       "417     5556          YP  2020-11-01   ASII  ASII-2020-11-01-S-8   91299    S   \n",
       "418     5492          PD  2020-11-01   ASII  ASII-2020-11-01-B-9   51655    B   \n",
       "419     5654          PD  2020-11-01   ASII  ASII-2020-11-01-S-9   91089    S   \n",
       "\n",
       "           value  \n",
       "40   59000000000  \n",
       "41   40600000000  \n",
       "42   51900000000  \n",
       "43   40200000000  \n",
       "44   44800000000  \n",
       "..           ...  \n",
       "415  56500000000  \n",
       "416  28200000000  \n",
       "417  50700000000  \n",
       "418  28400000000  \n",
       "419  51500000000  \n",
       "\n",
       "[360 rows x 8 columns]"
      ],
      "text/html": "<div>\n<style scoped>\n    .dataframe tbody tr th:only-of-type {\n        vertical-align: middle;\n    }\n\n    .dataframe tbody tr th {\n        vertical-align: top;\n    }\n\n    .dataframe thead th {\n        text-align: right;\n    }\n</style>\n<table border=\"1\" class=\"dataframe\">\n  <thead>\n    <tr style=\"text-align: right;\">\n      <th></th>\n      <th>average</th>\n      <th>broker_code</th>\n      <th>date</th>\n      <th>emiten</th>\n      <th>id</th>\n      <th>lot</th>\n      <th>type</th>\n      <th>value</th>\n    </tr>\n  </thead>\n  <tbody>\n    <tr>\n      <th>40</th>\n      <td>5746</td>\n      <td>AK</td>\n      <td>2020-11-06</td>\n      <td>ASII</td>\n      <td>ASII-2020-11-06-B-0</td>\n      <td>102611</td>\n      <td>B</td>\n      <td>59000000000</td>\n    </tr>\n    <tr>\n      <th>41</th>\n      <td>5745</td>\n      <td>AT</td>\n      <td>2020-11-06</td>\n      <td>ASII</td>\n      <td>ASII-2020-11-06-S-0</td>\n      <td>70652</td>\n      <td>S</td>\n      <td>40600000000</td>\n    </tr>\n    <tr>\n      <th>42</th>\n      <td>5796</td>\n      <td>ZP</td>\n      <td>2020-11-06</td>\n      <td>ASII</td>\n      <td>ASII-2020-11-06-B-1</td>\n      <td>89506</td>\n      <td>B</td>\n      <td>51900000000</td>\n    </tr>\n    <tr>\n      <th>43</th>\n      <td>5832</td>\n      <td>ZP</td>\n      <td>2020-11-06</td>\n      <td>ASII</td>\n      <td>ASII-2020-11-06-S-1</td>\n      <td>68881</td>\n      <td>S</td>\n      <td>40200000000</td>\n    </tr>\n    <tr>\n      <th>44</th>\n      <td>5692</td>\n      <td>KZ</td>\n      <td>2020-11-06</td>\n      <td>ASII</td>\n      <td>ASII-2020-11-06-B-2</td>\n      <td>78634</td>\n      <td>B</td>\n      <td>44800000000</td>\n    </tr>\n    <tr>\n      <th>...</th>\n      <td>...</td>\n      <td>...</td>\n      <td>...</td>\n      <td>...</td>\n      <td>...</td>\n      <td>...</td>\n      <td>...</td>\n      <td>...</td>\n    </tr>\n    <tr>\n      <th>415</th>\n      <td>5372</td>\n      <td>MS</td>\n      <td>2020-11-01</td>\n      <td>ASII</td>\n      <td>ASII-2020-11-01-S-7</td>\n      <td>105241</td>\n      <td>S</td>\n      <td>56500000000</td>\n    </tr>\n    <tr>\n      <th>416</th>\n      <td>5466</td>\n      <td>CC</td>\n      <td>2020-11-01</td>\n      <td>ASII</td>\n      <td>ASII-2020-11-01-B-8</td>\n      <td>51672</td>\n      <td>B</td>\n      <td>28200000000</td>\n    </tr>\n    <tr>\n      <th>417</th>\n      <td>5556</td>\n      <td>YP</td>\n      <td>2020-11-01</td>\n      <td>ASII</td>\n      <td>ASII-2020-11-01-S-8</td>\n      <td>91299</td>\n      <td>S</td>\n      <td>50700000000</td>\n    </tr>\n    <tr>\n      <th>418</th>\n      <td>5492</td>\n      <td>PD</td>\n      <td>2020-11-01</td>\n      <td>ASII</td>\n      <td>ASII-2020-11-01-B-9</td>\n      <td>51655</td>\n      <td>B</td>\n      <td>28400000000</td>\n    </tr>\n    <tr>\n      <th>419</th>\n      <td>5654</td>\n      <td>PD</td>\n      <td>2020-11-01</td>\n      <td>ASII</td>\n      <td>ASII-2020-11-01-S-9</td>\n      <td>91089</td>\n      <td>S</td>\n      <td>51500000000</td>\n    </tr>\n  </tbody>\n</table>\n<p>360 rows × 8 columns</p>\n</div>"
     },
     "metadata": {},
     "execution_count": 45
    }
   ],
   "source": [
    "df"
   ]
  },
  {
   "cell_type": "code",
   "execution_count": 47,
   "metadata": {},
   "outputs": [],
   "source": [
    "df.to_excel(\"/Users/mragungsetiaji/Documents/friday/friday-spider/asii.xlsx\")"
   ]
  }
 ]
}